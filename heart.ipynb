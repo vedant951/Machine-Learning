{
 "cells": [
  {
   "cell_type": "code",
   "execution_count": 1,
   "metadata": {
    "colab": {
     "base_uri": "https://localhost:8080/",
     "height": 34
    },
    "colab_type": "code",
    "executionInfo": {
     "elapsed": 2893,
     "status": "ok",
     "timestamp": 1554571445242,
     "user": {
      "displayName": "Anuj Tiwari",
      "photoUrl": "",
      "userId": "14617033239842827404"
     },
     "user_tz": -330
    },
    "id": "vTtWZACg-JMB",
    "outputId": "ecf86f2b-797b-45f4-bb56-4d83fdf69238"
   },
   "outputs": [
    {
     "ename": "ModuleNotFoundError",
     "evalue": "No module named 'tensorflow'",
     "output_type": "error",
     "traceback": [
      "\u001b[1;31m---------------------------------------------------------------------------\u001b[0m",
      "\u001b[1;31mModuleNotFoundError\u001b[0m                       Traceback (most recent call last)",
      "\u001b[1;32m<ipython-input-1-11325c8e1fc1>\u001b[0m in \u001b[0;36m<module>\u001b[1;34m\u001b[0m\n\u001b[1;32m----> 1\u001b[1;33m \u001b[1;32mimport\u001b[0m \u001b[0mtensorflow\u001b[0m \u001b[1;32mas\u001b[0m \u001b[0mtf\u001b[0m\u001b[1;33m\u001b[0m\u001b[1;33m\u001b[0m\u001b[0m\n\u001b[0m\u001b[0;32m      2\u001b[0m \u001b[1;32mimport\u001b[0m \u001b[0mpandas\u001b[0m \u001b[1;32mas\u001b[0m  \u001b[0mpd\u001b[0m\u001b[1;33m\u001b[0m\u001b[1;33m\u001b[0m\u001b[0m\n\u001b[0;32m      3\u001b[0m \u001b[1;32mimport\u001b[0m \u001b[0mnumpy\u001b[0m \u001b[1;32mas\u001b[0m \u001b[0mnp\u001b[0m\u001b[1;33m\u001b[0m\u001b[1;33m\u001b[0m\u001b[0m\n\u001b[0;32m      4\u001b[0m \u001b[1;32mfrom\u001b[0m \u001b[0msklearn\u001b[0m\u001b[1;33m.\u001b[0m\u001b[0mmodel_selection\u001b[0m \u001b[1;32mimport\u001b[0m \u001b[0mtrain_test_split\u001b[0m\u001b[1;33m\u001b[0m\u001b[1;33m\u001b[0m\u001b[0m\n\u001b[0;32m      5\u001b[0m \u001b[1;32mimport\u001b[0m \u001b[0mmatplotlib\u001b[0m\u001b[1;33m.\u001b[0m\u001b[0mpyplot\u001b[0m \u001b[1;32mas\u001b[0m \u001b[0mplt\u001b[0m\u001b[1;33m\u001b[0m\u001b[1;33m\u001b[0m\u001b[0m\n",
      "\u001b[1;31mModuleNotFoundError\u001b[0m: No module named 'tensorflow'"
     ]
    }
   ],
   "source": [
    "import tensorflow as tf \n",
    "import pandas as  pd \n",
    "import numpy as np \n",
    "from sklearn.model_selection import train_test_split \n",
    "import matplotlib.pyplot as plt \n",
    "from tensorflow.python.framework import ops \n",
    "from sklearn.utils import shuffle\n",
    "import math\n",
    "\n",
    "\n",
    "from sklearn.metrics import confusion_matrix, cohen_kappa_score\n",
    "from sklearn.metrics import f1_score, recall_score\n",
    "\n",
    "\n",
    "from tensorflow import keras \n",
    "from keras.models import Sequential\n",
    "from keras.layers import Flatten , Dense"
   ]
  },
  {
   "cell_type": "code",
   "execution_count": 2,
   "metadata": {
    "colab": {
     "base_uri": "https://localhost:8080/",
     "height": 34
    },
    "colab_type": "code",
    "executionInfo": {
     "elapsed": 2860,
     "status": "ok",
     "timestamp": 1554571445244,
     "user": {
      "displayName": "Anuj Tiwari",
      "photoUrl": "",
      "userId": "14617033239842827404"
     },
     "user_tz": -330
    },
    "id": "K49VzoRaCsYx",
    "outputId": "4c3d5e38-d360-42a3-eb08-c32c5bf2ac41"
   },
   "outputs": [
    {
     "ename": "ModuleNotFoundError",
     "evalue": "No module named 'google'",
     "output_type": "error",
     "traceback": [
      "\u001b[1;31m---------------------------------------------------------------------------\u001b[0m",
      "\u001b[1;31mModuleNotFoundError\u001b[0m                       Traceback (most recent call last)",
      "\u001b[1;32m<ipython-input-2-d5df0069828e>\u001b[0m in \u001b[0;36m<module>\u001b[1;34m\u001b[0m\n\u001b[1;32m----> 1\u001b[1;33m \u001b[1;32mfrom\u001b[0m \u001b[0mgoogle\u001b[0m\u001b[1;33m.\u001b[0m\u001b[0mcolab\u001b[0m \u001b[1;32mimport\u001b[0m \u001b[0mdrive\u001b[0m\u001b[1;33m\u001b[0m\u001b[1;33m\u001b[0m\u001b[0m\n\u001b[0m\u001b[0;32m      2\u001b[0m \u001b[0mdrive\u001b[0m\u001b[1;33m.\u001b[0m\u001b[0mmount\u001b[0m\u001b[1;33m(\u001b[0m\u001b[1;34m'/content/drive'\u001b[0m\u001b[1;33m)\u001b[0m\u001b[1;33m\u001b[0m\u001b[1;33m\u001b[0m\u001b[0m\n",
      "\u001b[1;31mModuleNotFoundError\u001b[0m: No module named 'google'"
     ]
    }
   ],
   "source": [
    "from google.colab import drive\n",
    "drive.mount('/content/drive')"
   ]
  },
  {
   "cell_type": "code",
   "execution_count": 3,
   "metadata": {
    "colab": {},
    "colab_type": "code",
    "id": "kQrhwC24DSOq"
   },
   "outputs": [
    {
     "ename": "FileNotFoundError",
     "evalue": "[WinError 3] The system cannot find the path specified: '/content/drive/My Drive/Colab Notebooks'",
     "output_type": "error",
     "traceback": [
      "\u001b[1;31m---------------------------------------------------------------------------\u001b[0m",
      "\u001b[1;31mFileNotFoundError\u001b[0m                         Traceback (most recent call last)",
      "\u001b[1;32m<ipython-input-3-33485268f590>\u001b[0m in \u001b[0;36m<module>\u001b[1;34m\u001b[0m\n\u001b[0;32m      1\u001b[0m \u001b[1;32mimport\u001b[0m \u001b[0mos\u001b[0m\u001b[1;33m\u001b[0m\u001b[1;33m\u001b[0m\u001b[0m\n\u001b[1;32m----> 2\u001b[1;33m \u001b[0mos\u001b[0m\u001b[1;33m.\u001b[0m\u001b[0mchdir\u001b[0m\u001b[1;33m(\u001b[0m\u001b[1;34m\"/content/drive/My Drive/Colab Notebooks\"\u001b[0m\u001b[1;33m)\u001b[0m\u001b[1;33m\u001b[0m\u001b[1;33m\u001b[0m\u001b[0m\n\u001b[0m",
      "\u001b[1;31mFileNotFoundError\u001b[0m: [WinError 3] The system cannot find the path specified: '/content/drive/My Drive/Colab Notebooks'"
     ]
    }
   ],
   "source": [
    "import os\n",
    "os.chdir(\"/content/drive/My Drive/Colab Notebooks\")"
   ]
  },
  {
   "cell_type": "code",
   "execution_count": 4,
   "metadata": {
    "colab": {
     "base_uri": "https://localhost:8080/",
     "height": 221
    },
    "colab_type": "code",
    "executionInfo": {
     "elapsed": 6513,
     "status": "ok",
     "timestamp": 1554571448953,
     "user": {
      "displayName": "Anuj Tiwari",
      "photoUrl": "",
      "userId": "14617033239842827404"
     },
     "user_tz": -330
    },
    "id": "O4hw-vjVD1Zy",
    "outputId": "a0453d5a-08d5-44eb-f52a-d3334755b548"
   },
   "outputs": [
    {
     "name": "stderr",
     "output_type": "stream",
     "text": [
      "'ls' is not recognized as an internal or external command,\n",
      "operable program or batch file.\n"
     ]
    }
   ],
   "source": [
    "!ls"
   ]
  },
  {
   "cell_type": "code",
   "execution_count": 5,
   "metadata": {
    "colab": {
     "base_uri": "https://localhost:8080/",
     "height": 68
    },
    "colab_type": "code",
    "executionInfo": {
     "elapsed": 6487,
     "status": "ok",
     "timestamp": 1554571448954,
     "user": {
      "displayName": "Anuj Tiwari",
      "photoUrl": "",
      "userId": "14617033239842827404"
     },
     "user_tz": -330
    },
    "id": "OhfHm4flD4Xi",
    "outputId": "f9c54289-fd6a-461f-fec6-ed8badca7e52"
   },
   "outputs": [
    {
     "ename": "NameError",
     "evalue": "name 'pd' is not defined",
     "output_type": "error",
     "traceback": [
      "\u001b[1;31m---------------------------------------------------------------------------\u001b[0m",
      "\u001b[1;31mNameError\u001b[0m                                 Traceback (most recent call last)",
      "\u001b[1;32m<ipython-input-5-2dee0cbc4666>\u001b[0m in \u001b[0;36m<module>\u001b[1;34m\u001b[0m\n\u001b[1;32m----> 1\u001b[1;33m \u001b[0mheart_data\u001b[0m \u001b[1;33m=\u001b[0m \u001b[0mpd\u001b[0m\u001b[1;33m.\u001b[0m\u001b[0mread_csv\u001b[0m\u001b[1;33m(\u001b[0m\u001b[1;34m\"heart.csv\"\u001b[0m\u001b[1;33m)\u001b[0m\u001b[1;33m\u001b[0m\u001b[1;33m\u001b[0m\u001b[0m\n\u001b[0m\u001b[0;32m      2\u001b[0m \u001b[0mclass_names\u001b[0m \u001b[1;33m=\u001b[0m \u001b[1;33m{\u001b[0m\u001b[1;36m0\u001b[0m\u001b[1;33m:\u001b[0m\u001b[1;34m'Fine'\u001b[0m \u001b[1;33m,\u001b[0m \u001b[1;36m1\u001b[0m\u001b[1;33m:\u001b[0m\u001b[1;34m'Not Fine'\u001b[0m\u001b[1;33m}\u001b[0m\u001b[1;33m\u001b[0m\u001b[1;33m\u001b[0m\u001b[0m\n\u001b[0;32m      3\u001b[0m \u001b[0mprint\u001b[0m\u001b[1;33m(\u001b[0m\u001b[0mheart_data\u001b[0m\u001b[1;33m.\u001b[0m\u001b[0mtarget\u001b[0m\u001b[1;33m.\u001b[0m\u001b[0mvalue_counts\u001b[0m\u001b[1;33m(\u001b[0m\u001b[1;33m)\u001b[0m\u001b[1;33m.\u001b[0m\u001b[0mrename\u001b[0m\u001b[1;33m(\u001b[0m\u001b[0mindex\u001b[0m \u001b[1;33m=\u001b[0m \u001b[0mclass_names\u001b[0m\u001b[1;33m)\u001b[0m\u001b[1;33m)\u001b[0m\u001b[1;33m\u001b[0m\u001b[1;33m\u001b[0m\u001b[0m\n",
      "\u001b[1;31mNameError\u001b[0m: name 'pd' is not defined"
     ]
    }
   ],
   "source": [
    "heart_data = pd.read_csv(\"heart.csv\")\n",
    "class_names = {0:'Fine' , 1:'Not Fine'}\n",
    "print(heart_data.target.value_counts().rename(index = class_names))"
   ]
  },
  {
   "cell_type": "code",
   "execution_count": 6,
   "metadata": {
    "colab": {
     "base_uri": "https://localhost:8080/",
     "height": 1969
    },
    "colab_type": "code",
    "executionInfo": {
     "elapsed": 6430,
     "status": "ok",
     "timestamp": 1554571448955,
     "user": {
      "displayName": "Anuj Tiwari",
      "photoUrl": "",
      "userId": "14617033239842827404"
     },
     "user_tz": -330
    },
    "id": "kt29reWnEDHK",
    "outputId": "daf56011-63cc-4c51-d67b-62906f3e733f"
   },
   "outputs": [
    {
     "ename": "NameError",
     "evalue": "name 'shuffle' is not defined",
     "output_type": "error",
     "traceback": [
      "\u001b[1;31m---------------------------------------------------------------------------\u001b[0m",
      "\u001b[1;31mNameError\u001b[0m                                 Traceback (most recent call last)",
      "\u001b[1;32m<ipython-input-6-fdfd84d2b0b3>\u001b[0m in \u001b[0;36m<module>\u001b[1;34m\u001b[0m\n\u001b[1;32m----> 1\u001b[1;33m \u001b[0mheart_data\u001b[0m \u001b[1;33m=\u001b[0m \u001b[0mshuffle\u001b[0m\u001b[1;33m(\u001b[0m\u001b[0mheart_data\u001b[0m\u001b[1;33m)\u001b[0m\u001b[1;33m\u001b[0m\u001b[1;33m\u001b[0m\u001b[0m\n\u001b[0m\u001b[0;32m      2\u001b[0m \u001b[0mheart_data\u001b[0m\u001b[1;33m\u001b[0m\u001b[1;33m\u001b[0m\u001b[0m\n",
      "\u001b[1;31mNameError\u001b[0m: name 'shuffle' is not defined"
     ]
    }
   ],
   "source": [
    "heart_data = shuffle(heart_data)\n",
    "heart_data"
   ]
  },
  {
   "cell_type": "code",
   "execution_count": 7,
   "metadata": {
    "colab": {
     "base_uri": "https://localhost:8080/",
     "height": 34
    },
    "colab_type": "code",
    "executionInfo": {
     "elapsed": 6411,
     "status": "ok",
     "timestamp": 1554571448956,
     "user": {
      "displayName": "Anuj Tiwari",
      "photoUrl": "",
      "userId": "14617033239842827404"
     },
     "user_tz": -330
    },
    "id": "EJMLehqZEGji",
    "outputId": "4d6d6b01-43ce-49f0-c08e-c73b8b7ab8fc"
   },
   "outputs": [
    {
     "ename": "NameError",
     "evalue": "name 'np' is not defined",
     "output_type": "error",
     "traceback": [
      "\u001b[1;31m---------------------------------------------------------------------------\u001b[0m",
      "\u001b[1;31mNameError\u001b[0m                                 Traceback (most recent call last)",
      "\u001b[1;32m<ipython-input-7-2ed77e8f3189>\u001b[0m in \u001b[0;36m<module>\u001b[1;34m\u001b[0m\n\u001b[1;32m----> 1\u001b[1;33m \u001b[0mX\u001b[0m \u001b[1;33m=\u001b[0m \u001b[0mnp\u001b[0m\u001b[1;33m.\u001b[0m\u001b[0marray\u001b[0m\u001b[1;33m(\u001b[0m\u001b[0mheart_data\u001b[0m\u001b[1;33m.\u001b[0m\u001b[0mdrop\u001b[0m\u001b[1;33m(\u001b[0m\u001b[1;33m[\u001b[0m\u001b[1;34m'target'\u001b[0m\u001b[1;33m]\u001b[0m\u001b[1;33m,\u001b[0m\u001b[0maxis\u001b[0m \u001b[1;33m=\u001b[0m \u001b[1;36m1\u001b[0m\u001b[1;33m)\u001b[0m\u001b[1;33m)\u001b[0m\u001b[1;33m\u001b[0m\u001b[1;33m\u001b[0m\u001b[0m\n\u001b[0m\u001b[0;32m      2\u001b[0m \u001b[0mY\u001b[0m \u001b[1;33m=\u001b[0m \u001b[0mnp\u001b[0m\u001b[1;33m.\u001b[0m\u001b[0marray\u001b[0m\u001b[1;33m(\u001b[0m\u001b[0mheart_data\u001b[0m\u001b[1;33m[\u001b[0m\u001b[1;34m'target'\u001b[0m\u001b[1;33m]\u001b[0m\u001b[1;33m)\u001b[0m\u001b[1;33m\u001b[0m\u001b[1;33m\u001b[0m\u001b[0m\n\u001b[0;32m      3\u001b[0m \u001b[0mprint\u001b[0m\u001b[1;33m(\u001b[0m\u001b[0mX\u001b[0m\u001b[1;33m.\u001b[0m\u001b[0mshape\u001b[0m\u001b[1;33m,\u001b[0m\u001b[0mY\u001b[0m\u001b[1;33m.\u001b[0m\u001b[0mshape\u001b[0m\u001b[1;33m)\u001b[0m\u001b[1;33m\u001b[0m\u001b[1;33m\u001b[0m\u001b[0m\n",
      "\u001b[1;31mNameError\u001b[0m: name 'np' is not defined"
     ]
    }
   ],
   "source": [
    "X = np.array(heart_data.drop(['target'],axis = 1))\n",
    "Y = np.array(heart_data['target'])\n",
    "print(X.shape,Y.shape)"
   ]
  },
  {
   "cell_type": "code",
   "execution_count": 8,
   "metadata": {
    "colab": {
     "base_uri": "https://localhost:8080/",
     "height": 34
    },
    "colab_type": "code",
    "executionInfo": {
     "elapsed": 6383,
     "status": "ok",
     "timestamp": 1554571448957,
     "user": {
      "displayName": "Anuj Tiwari",
      "photoUrl": "",
      "userId": "14617033239842827404"
     },
     "user_tz": -330
    },
    "id": "Frt0vc4DKMhS",
    "outputId": "cb61dfac-a3e0-4d9a-cb52-8b828fbd6a9a"
   },
   "outputs": [
    {
     "ename": "NameError",
     "evalue": "name 'np' is not defined",
     "output_type": "error",
     "traceback": [
      "\u001b[1;31m---------------------------------------------------------------------------\u001b[0m",
      "\u001b[1;31mNameError\u001b[0m                                 Traceback (most recent call last)",
      "\u001b[1;32m<ipython-input-8-441e66a7f478>\u001b[0m in \u001b[0;36m<module>\u001b[1;34m\u001b[0m\n\u001b[0;32m      1\u001b[0m \u001b[1;32mfrom\u001b[0m \u001b[0msklearn\u001b[0m\u001b[1;33m.\u001b[0m\u001b[0mmodel_selection\u001b[0m \u001b[1;32mimport\u001b[0m \u001b[0mtrain_test_split\u001b[0m\u001b[1;33m\u001b[0m\u001b[1;33m\u001b[0m\u001b[0m\n\u001b[1;32m----> 2\u001b[1;33m \u001b[0mnp\u001b[0m\u001b[1;33m.\u001b[0m\u001b[0mrandom\u001b[0m\u001b[1;33m.\u001b[0m\u001b[0mseed\u001b[0m\u001b[1;33m(\u001b[0m\u001b[1;36m12\u001b[0m\u001b[1;33m)\u001b[0m\u001b[1;33m\u001b[0m\u001b[1;33m\u001b[0m\u001b[0m\n\u001b[0m\u001b[0;32m      3\u001b[0m \u001b[0mX_Train\u001b[0m\u001b[1;33m,\u001b[0m\u001b[0mX_Test\u001b[0m\u001b[1;33m,\u001b[0m\u001b[0mY_Train\u001b[0m\u001b[1;33m,\u001b[0m\u001b[0mY_Test\u001b[0m \u001b[1;33m=\u001b[0m \u001b[0mtrain_test_split\u001b[0m\u001b[1;33m(\u001b[0m\u001b[0mX\u001b[0m\u001b[1;33m,\u001b[0m \u001b[0mY\u001b[0m\u001b[1;33m,\u001b[0m \u001b[0mtrain_size\u001b[0m \u001b[1;33m=\u001b[0m \u001b[1;36m.7\u001b[0m\u001b[1;33m,\u001b[0m \u001b[0mtest_size\u001b[0m\u001b[1;33m=\u001b[0m \u001b[1;36m.3\u001b[0m\u001b[1;33m,\u001b[0m\u001b[0mrandom_state\u001b[0m \u001b[1;33m=\u001b[0m \u001b[1;36m1\u001b[0m\u001b[1;33m)\u001b[0m\u001b[1;33m\u001b[0m\u001b[1;33m\u001b[0m\u001b[0m\n\u001b[0;32m      4\u001b[0m \u001b[1;33m\u001b[0m\u001b[0m\n\u001b[0;32m      5\u001b[0m \u001b[0mprint\u001b[0m\u001b[1;33m(\u001b[0m\u001b[0mX_Train\u001b[0m\u001b[1;33m.\u001b[0m\u001b[0mshape\u001b[0m\u001b[1;33m,\u001b[0m\u001b[0mY_Test\u001b[0m\u001b[1;33m.\u001b[0m\u001b[0mshape\u001b[0m\u001b[1;33m)\u001b[0m\u001b[1;33m\u001b[0m\u001b[1;33m\u001b[0m\u001b[0m\n",
      "\u001b[1;31mNameError\u001b[0m: name 'np' is not defined"
     ]
    }
   ],
   "source": [
    "from sklearn.model_selection import train_test_split\n",
    "np.random.seed(12)\n",
    "X_Train,X_Test,Y_Train,Y_Test = train_test_split(X, Y, train_size = .7, test_size= .3,random_state = 1)\n",
    "\n",
    "print(X_Train.shape,Y_Test.shape)"
   ]
  },
  {
   "cell_type": "code",
   "execution_count": null,
   "metadata": {
    "colab": {
     "base_uri": "https://localhost:8080/",
     "height": 34
    },
    "colab_type": "code",
    "executionInfo": {
     "elapsed": 6367,
     "status": "ok",
     "timestamp": 1554571448958,
     "user": {
      "displayName": "Anuj Tiwari",
      "photoUrl": "",
      "userId": "14617033239842827404"
     },
     "user_tz": -330
    },
    "id": "_1muw7PjLEDD",
    "outputId": "4b56d7e7-d6b7-4499-c109-f9161a9483c4"
   },
   "outputs": [],
   "source": [
    "heart_data['age'].shape"
   ]
  },
  {
   "cell_type": "code",
   "execution_count": 9,
   "metadata": {
    "colab": {
     "base_uri": "https://localhost:8080/",
     "height": 1969
    },
    "colab_type": "code",
    "executionInfo": {
     "elapsed": 6346,
     "status": "ok",
     "timestamp": 1554571448959,
     "user": {
      "displayName": "Anuj Tiwari",
      "photoUrl": "",
      "userId": "14617033239842827404"
     },
     "user_tz": -330
    },
    "id": "rnM7Que4WGj6",
    "outputId": "5bf248d9-3c89-4c2f-b1fe-1628c20b937f"
   },
   "outputs": [
    {
     "ename": "NameError",
     "evalue": "name 'heart_data' is not defined",
     "output_type": "error",
     "traceback": [
      "\u001b[1;31m---------------------------------------------------------------------------\u001b[0m",
      "\u001b[1;31mNameError\u001b[0m                                 Traceback (most recent call last)",
      "\u001b[1;32m<ipython-input-9-d702de408ddb>\u001b[0m in \u001b[0;36m<module>\u001b[1;34m\u001b[0m\n\u001b[0;32m      1\u001b[0m \u001b[1;31m#ormalizig of heart_data\u001b[0m\u001b[1;33m\u001b[0m\u001b[1;33m\u001b[0m\u001b[1;33m\u001b[0m\u001b[0m\n\u001b[1;32m----> 2\u001b[1;33m \u001b[0mmax_age\u001b[0m \u001b[1;33m=\u001b[0m \u001b[0mmax\u001b[0m\u001b[1;33m(\u001b[0m\u001b[0mheart_data\u001b[0m\u001b[1;33m[\u001b[0m\u001b[1;34m'age'\u001b[0m\u001b[1;33m]\u001b[0m\u001b[1;33m)\u001b[0m\u001b[1;33m\u001b[0m\u001b[1;33m\u001b[0m\u001b[0m\n\u001b[0m\u001b[0;32m      3\u001b[0m \u001b[0mheart_data\u001b[0m\u001b[1;33m[\u001b[0m\u001b[1;34m'age'\u001b[0m\u001b[1;33m]\u001b[0m \u001b[1;33m=\u001b[0m \u001b[0mheart_data\u001b[0m\u001b[1;33m[\u001b[0m\u001b[1;34m'age'\u001b[0m\u001b[1;33m]\u001b[0m\u001b[1;33m/\u001b[0m\u001b[0mmax_age\u001b[0m\u001b[1;33m\u001b[0m\u001b[1;33m\u001b[0m\u001b[0m\n\u001b[0;32m      4\u001b[0m \u001b[1;33m\u001b[0m\u001b[0m\n\u001b[0;32m      5\u001b[0m \u001b[0mmax_cp\u001b[0m \u001b[1;33m=\u001b[0m \u001b[0mmax\u001b[0m\u001b[1;33m(\u001b[0m\u001b[0mheart_data\u001b[0m\u001b[1;33m[\u001b[0m\u001b[1;34m'cp'\u001b[0m\u001b[1;33m]\u001b[0m\u001b[1;33m)\u001b[0m\u001b[1;33m\u001b[0m\u001b[1;33m\u001b[0m\u001b[0m\n",
      "\u001b[1;31mNameError\u001b[0m: name 'heart_data' is not defined"
     ]
    }
   ],
   "source": [
    "#ormalizig of heart_data\n",
    "max_age = max(heart_data['age'])\n",
    "heart_data['age'] = heart_data['age']/max_age\n",
    "\n",
    "max_cp = max(heart_data['cp'])\n",
    "heart_data['cp'] = heart_data['cp']/max_cp\n",
    "\n",
    "max_trestbps = max(heart_data['trestbps'])\n",
    "heart_data['trestbps'] = heart_data['trestbps']/max_trestbps\n",
    "\n",
    "max_chol = max(heart_data['chol'])\n",
    "heart_data['chol'] = heart_data['chol']/max_chol\n",
    "\n",
    "max_thalach = max(heart_data['thalach'])\n",
    "heart_data['thalach'] = heart_data['thalach']/max_thalach\n",
    "\n",
    "max_oldpeak = max(heart_data['oldpeak'])\n",
    "heart_data['oldpeak'] = heart_data['oldpeak']/max_oldpeak\n",
    "\n",
    "max_slope = max(heart_data['slope'])\n",
    "heart_data['slope'] = heart_data['slope']/max_slope\n",
    "\n",
    "max_thal\t = max(heart_data['thal'])\n",
    "heart_data['thal'] = heart_data['thal']/max_thal\t\n",
    "\n",
    "heart_data"
   ]
  },
  {
   "cell_type": "code",
   "execution_count": 10,
   "metadata": {
    "colab": {},
    "colab_type": "code",
    "id": "K8kLwlrn8FR_"
   },
   "outputs": [
    {
     "ename": "NameError",
     "evalue": "name 'np' is not defined",
     "output_type": "error",
     "traceback": [
      "\u001b[1;31m---------------------------------------------------------------------------\u001b[0m",
      "\u001b[1;31mNameError\u001b[0m                                 Traceback (most recent call last)",
      "\u001b[1;32m<ipython-input-10-f58ac47b6aa0>\u001b[0m in \u001b[0;36m<module>\u001b[1;34m\u001b[0m\n\u001b[1;32m----> 1\u001b[1;33m \u001b[0mX\u001b[0m \u001b[1;33m=\u001b[0m \u001b[0mnp\u001b[0m\u001b[1;33m.\u001b[0m\u001b[0marray\u001b[0m\u001b[1;33m(\u001b[0m\u001b[0mheart_data\u001b[0m\u001b[1;33m.\u001b[0m\u001b[0mdrop\u001b[0m\u001b[1;33m(\u001b[0m\u001b[1;33m[\u001b[0m\u001b[1;34m'target'\u001b[0m\u001b[1;33m]\u001b[0m\u001b[1;33m,\u001b[0m\u001b[0maxis\u001b[0m \u001b[1;33m=\u001b[0m \u001b[1;36m1\u001b[0m\u001b[1;33m)\u001b[0m\u001b[1;33m)\u001b[0m\u001b[1;33m\u001b[0m\u001b[1;33m\u001b[0m\u001b[0m\n\u001b[0m\u001b[0;32m      2\u001b[0m \u001b[0mY\u001b[0m \u001b[1;33m=\u001b[0m \u001b[0mnp\u001b[0m\u001b[1;33m.\u001b[0m\u001b[0marray\u001b[0m\u001b[1;33m(\u001b[0m\u001b[0mheart_data\u001b[0m\u001b[1;33m[\u001b[0m\u001b[1;34m'target'\u001b[0m\u001b[1;33m]\u001b[0m\u001b[1;33m)\u001b[0m\u001b[1;33m\u001b[0m\u001b[1;33m\u001b[0m\u001b[0m\n",
      "\u001b[1;31mNameError\u001b[0m: name 'np' is not defined"
     ]
    }
   ],
   "source": [
    "X = np.array(heart_data.drop(['target'],axis = 1))\n",
    "Y = np.array(heart_data['target'])"
   ]
  },
  {
   "cell_type": "code",
   "execution_count": 11,
   "metadata": {
    "colab": {
     "base_uri": "https://localhost:8080/",
     "height": 34
    },
    "colab_type": "code",
    "executionInfo": {
     "elapsed": 6307,
     "status": "ok",
     "timestamp": 1554571448963,
     "user": {
      "displayName": "Anuj Tiwari",
      "photoUrl": "",
      "userId": "14617033239842827404"
     },
     "user_tz": -330
    },
    "id": "8lGzhUisOjst",
    "outputId": "a66127ba-bb2b-410a-fffb-421be55e108f"
   },
   "outputs": [
    {
     "ename": "NameError",
     "evalue": "name 'X' is not defined",
     "output_type": "error",
     "traceback": [
      "\u001b[1;31m---------------------------------------------------------------------------\u001b[0m",
      "\u001b[1;31mNameError\u001b[0m                                 Traceback (most recent call last)",
      "\u001b[1;32m<ipython-input-11-125bd7ed0188>\u001b[0m in \u001b[0;36m<module>\u001b[1;34m\u001b[0m\n\u001b[1;32m----> 1\u001b[1;33m \u001b[0mprint\u001b[0m\u001b[1;33m(\u001b[0m\u001b[0mX\u001b[0m\u001b[1;33m.\u001b[0m\u001b[0mshape\u001b[0m\u001b[1;33m,\u001b[0m\u001b[0mY\u001b[0m\u001b[1;33m.\u001b[0m\u001b[0mshape\u001b[0m\u001b[1;33m)\u001b[0m\u001b[1;33m\u001b[0m\u001b[1;33m\u001b[0m\u001b[0m\n\u001b[0m",
      "\u001b[1;31mNameError\u001b[0m: name 'X' is not defined"
     ]
    }
   ],
   "source": [
    "print(X.shape,Y.shape)"
   ]
  },
  {
   "cell_type": "code",
   "execution_count": 0,
   "metadata": {
    "colab": {},
    "colab_type": "code",
    "id": "MBg-Qw1XPABt"
   },
   "outputs": [],
   "source": [
    "np.random.seed(123)\n",
    "X_train, X_test, Y_train, Y_test = train_test_split(X, Y, train_size = .70, test_size = .30, random_state = 1)"
   ]
  },
  {
   "cell_type": "code",
   "execution_count": 14,
   "metadata": {
    "colab": {
     "base_uri": "https://localhost:8080/",
     "height": 187
    },
    "colab_type": "code",
    "executionInfo": {
     "elapsed": 6687,
     "status": "ok",
     "timestamp": 1554571449391,
     "user": {
      "displayName": "Anuj Tiwari",
      "photoUrl": "",
      "userId": "14617033239842827404"
     },
     "user_tz": -330
    },
    "id": "x0wtn0coPsWk",
    "outputId": "5664de54-13f4-472d-c7a1-09f8ffcd7f94"
   },
   "outputs": [
    {
     "data": {
      "text/plain": [
       "array([0, 0, 0, 0, 0, 0, 0, 1, 1, 1, 0, 1, 0, 0, 0, 0, 1, 0, 0, 1, 0, 1,\n",
       "       0, 0, 1, 1, 0, 1, 1, 0, 1, 1, 0, 1, 1, 0, 1, 0, 0, 0, 0, 1, 1, 0,\n",
       "       1, 0, 1, 0, 1, 1, 1, 0, 1, 1, 1, 1, 0, 1, 0, 1, 0, 1, 1, 0, 1, 1,\n",
       "       1, 1, 1, 0, 0, 1, 0, 1, 0, 1, 1, 1, 1, 1, 1, 1, 0, 0, 0, 1, 0, 1,\n",
       "       0, 1, 1, 0, 1, 1, 1, 0, 1, 1, 1, 0, 1, 1, 0, 1, 1, 1, 0, 1, 1, 1,\n",
       "       0, 1, 1, 0, 0, 1, 0, 1, 1, 1, 1, 1, 1, 1, 1, 0, 0, 1, 0, 1, 1, 1,\n",
       "       1, 0, 1, 0, 1, 1, 0, 0, 0, 1, 0, 1, 0, 1, 1, 1, 0, 1, 0, 0, 1, 1,\n",
       "       1, 1, 1, 1, 1, 1, 1, 1, 1, 0, 1, 0, 1, 0, 0, 0, 1, 1, 1, 0, 0, 1,\n",
       "       1, 0, 1, 1, 1, 1, 0, 0, 1, 0, 0, 1, 0, 1, 0, 0, 1, 1, 0, 0, 0, 0,\n",
       "       1, 1, 1, 0, 1, 0, 1, 0, 1, 1, 1, 0, 0, 0])"
      ]
     },
     "execution_count": 14,
     "metadata": {
      "tags": []
     },
     "output_type": "execute_result"
    }
   ],
   "source": [
    "Y_train"
   ]
  },
  {
   "cell_type": "code",
   "execution_count": 15,
   "metadata": {
    "colab": {
     "base_uri": "https://localhost:8080/",
     "height": 34
    },
    "colab_type": "code",
    "executionInfo": {
     "elapsed": 6670,
     "status": "ok",
     "timestamp": 1554571449393,
     "user": {
      "displayName": "Anuj Tiwari",
      "photoUrl": "",
      "userId": "14617033239842827404"
     },
     "user_tz": -330
    },
    "id": "07oUlTGcQYlV",
    "outputId": "136722f9-97e7-4792-d1d1-4cac409bb2b1"
   },
   "outputs": [
    {
     "data": {
      "text/plain": [
       "13"
      ]
     },
     "execution_count": 15,
     "metadata": {
      "tags": []
     },
     "output_type": "execute_result"
    }
   ],
   "source": [
    "n_x = X_train.shape[1]\n",
    "n_x"
   ]
  },
  {
   "cell_type": "code",
   "execution_count": 16,
   "metadata": {
    "colab": {
     "base_uri": "https://localhost:8080/",
     "height": 88
    },
    "colab_type": "code",
    "executionInfo": {
     "elapsed": 6652,
     "status": "ok",
     "timestamp": 1554571449394,
     "user": {
      "displayName": "Anuj Tiwari",
      "photoUrl": "",
      "userId": "14617033239842827404"
     },
     "user_tz": -330
    },
    "id": "Kwif8gnNQeTN",
    "outputId": "9c971643-2478-4a6e-bb0f-9c2379259d7a"
   },
   "outputs": [
    {
     "name": "stdout",
     "output_type": "stream",
     "text": [
      "WARNING:tensorflow:From /usr/local/lib/python3.6/dist-packages/tensorflow/python/ops/resource_variable_ops.py:435: colocate_with (from tensorflow.python.framework.ops) is deprecated and will be removed in a future version.\n",
      "Instructions for updating:\n",
      "Colocations handled automatically by placer.\n"
     ]
    }
   ],
   "source": [
    "model = keras.Sequential([keras.layers.Flatten(input_shape = (n_x,)),\n",
    "                         keras.layers.Dense(10,activation= 'tanh'),\n",
    "                         keras.layers.Dense(5,activation= 'tanh'), \n",
    "                         keras.layers.Dense(2,activation = tf.nn.softmax)])"
   ]
  },
  {
   "cell_type": "code",
   "execution_count": 0,
   "metadata": {
    "colab": {},
    "colab_type": "code",
    "id": "JHQpRwvCTSvO"
   },
   "outputs": [],
   "source": [
    "model.compile(optimizer = tf.train.AdamOptimizer(),loss ='sparse_categorical_crossentropy',metrics = ['accuracy'])"
   ]
  },
  {
   "cell_type": "code",
   "execution_count": 18,
   "metadata": {
    "colab": {
     "base_uri": "https://localhost:8080/",
     "height": 3434
    },
    "colab_type": "code",
    "executionInfo": {
     "elapsed": 11133,
     "status": "ok",
     "timestamp": 1554571453898,
     "user": {
      "displayName": "Anuj Tiwari",
      "photoUrl": "",
      "userId": "14617033239842827404"
     },
     "user_tz": -330
    },
    "id": "gOU7EbUqVKWF",
    "outputId": "9f06a74d-4df3-4f18-f8c6-499eca038aad"
   },
   "outputs": [
    {
     "name": "stdout",
     "output_type": "stream",
     "text": [
      "Epoch 1/100\n",
      "212/212 [==============================] - 0s 1ms/sample - loss: 0.6543 - acc: 0.5896\n",
      "Epoch 2/100\n",
      "212/212 [==============================] - 0s 116us/sample - loss: 0.6275 - acc: 0.6792\n",
      "Epoch 3/100\n",
      "212/212 [==============================] - 0s 179us/sample - loss: 0.6096 - acc: 0.7028\n",
      "Epoch 4/100\n",
      "212/212 [==============================] - 0s 130us/sample - loss: 0.5935 - acc: 0.7170\n",
      "Epoch 5/100\n",
      "212/212 [==============================] - 0s 129us/sample - loss: 0.5802 - acc: 0.7358\n",
      "Epoch 6/100\n",
      "212/212 [==============================] - 0s 107us/sample - loss: 0.5664 - acc: 0.7547\n",
      "Epoch 7/100\n",
      "212/212 [==============================] - 0s 128us/sample - loss: 0.5546 - acc: 0.7642\n",
      "Epoch 8/100\n",
      "212/212 [==============================] - 0s 108us/sample - loss: 0.5432 - acc: 0.7689\n",
      "Epoch 9/100\n",
      "212/212 [==============================] - 0s 110us/sample - loss: 0.5325 - acc: 0.7783\n",
      "Epoch 10/100\n",
      "212/212 [==============================] - 0s 123us/sample - loss: 0.5220 - acc: 0.7830\n",
      "Epoch 11/100\n",
      "212/212 [==============================] - 0s 113us/sample - loss: 0.5119 - acc: 0.7736\n",
      "Epoch 12/100\n",
      "212/212 [==============================] - 0s 112us/sample - loss: 0.5035 - acc: 0.7877\n",
      "Epoch 13/100\n",
      "212/212 [==============================] - 0s 125us/sample - loss: 0.4944 - acc: 0.7877\n",
      "Epoch 14/100\n",
      "212/212 [==============================] - 0s 109us/sample - loss: 0.4853 - acc: 0.7925\n",
      "Epoch 15/100\n",
      "212/212 [==============================] - 0s 116us/sample - loss: 0.4775 - acc: 0.8019\n",
      "Epoch 16/100\n",
      "212/212 [==============================] - 0s 115us/sample - loss: 0.4693 - acc: 0.8019\n",
      "Epoch 17/100\n",
      "212/212 [==============================] - 0s 108us/sample - loss: 0.4624 - acc: 0.8019\n",
      "Epoch 18/100\n",
      "212/212 [==============================] - 0s 145us/sample - loss: 0.4552 - acc: 0.8066\n",
      "Epoch 19/100\n",
      "212/212 [==============================] - 0s 141us/sample - loss: 0.4480 - acc: 0.8066\n",
      "Epoch 20/100\n",
      "212/212 [==============================] - 0s 118us/sample - loss: 0.4420 - acc: 0.8066\n",
      "Epoch 21/100\n",
      "212/212 [==============================] - 0s 112us/sample - loss: 0.4361 - acc: 0.8066\n",
      "Epoch 22/100\n",
      "212/212 [==============================] - 0s 200us/sample - loss: 0.4303 - acc: 0.8066\n",
      "Epoch 23/100\n",
      "212/212 [==============================] - 0s 118us/sample - loss: 0.4250 - acc: 0.8066\n",
      "Epoch 24/100\n",
      "212/212 [==============================] - 0s 108us/sample - loss: 0.4197 - acc: 0.8113\n",
      "Epoch 25/100\n",
      "212/212 [==============================] - 0s 105us/sample - loss: 0.4155 - acc: 0.8113\n",
      "Epoch 26/100\n",
      "212/212 [==============================] - 0s 111us/sample - loss: 0.4109 - acc: 0.8113\n",
      "Epoch 27/100\n",
      "212/212 [==============================] - 0s 112us/sample - loss: 0.4069 - acc: 0.8066\n",
      "Epoch 28/100\n",
      "212/212 [==============================] - 0s 107us/sample - loss: 0.4031 - acc: 0.8066\n",
      "Epoch 29/100\n",
      "212/212 [==============================] - 0s 104us/sample - loss: 0.3993 - acc: 0.8066\n",
      "Epoch 30/100\n",
      "212/212 [==============================] - 0s 115us/sample - loss: 0.3959 - acc: 0.8066\n",
      "Epoch 31/100\n",
      "212/212 [==============================] - 0s 116us/sample - loss: 0.3926 - acc: 0.8113\n",
      "Epoch 32/100\n",
      "212/212 [==============================] - 0s 108us/sample - loss: 0.3895 - acc: 0.8255\n",
      "Epoch 33/100\n",
      "212/212 [==============================] - 0s 110us/sample - loss: 0.3867 - acc: 0.8255\n",
      "Epoch 34/100\n",
      "212/212 [==============================] - 0s 109us/sample - loss: 0.3838 - acc: 0.8208\n",
      "Epoch 35/100\n",
      "212/212 [==============================] - 0s 108us/sample - loss: 0.3814 - acc: 0.8302\n",
      "Epoch 36/100\n",
      "212/212 [==============================] - 0s 111us/sample - loss: 0.3793 - acc: 0.8302\n",
      "Epoch 37/100\n",
      "212/212 [==============================] - 0s 113us/sample - loss: 0.3764 - acc: 0.8302\n",
      "Epoch 38/100\n",
      "212/212 [==============================] - 0s 106us/sample - loss: 0.3749 - acc: 0.8302\n",
      "Epoch 39/100\n",
      "212/212 [==============================] - 0s 108us/sample - loss: 0.3729 - acc: 0.8302\n",
      "Epoch 40/100\n",
      "212/212 [==============================] - 0s 107us/sample - loss: 0.3702 - acc: 0.8302\n",
      "Epoch 41/100\n",
      "212/212 [==============================] - 0s 119us/sample - loss: 0.3692 - acc: 0.8255\n",
      "Epoch 42/100\n",
      "212/212 [==============================] - 0s 126us/sample - loss: 0.3680 - acc: 0.8255\n",
      "Epoch 43/100\n",
      "212/212 [==============================] - 0s 116us/sample - loss: 0.3665 - acc: 0.8302\n",
      "Epoch 44/100\n",
      "212/212 [==============================] - 0s 108us/sample - loss: 0.3639 - acc: 0.8302\n",
      "Epoch 45/100\n",
      "212/212 [==============================] - 0s 115us/sample - loss: 0.3626 - acc: 0.8349\n",
      "Epoch 46/100\n",
      "212/212 [==============================] - 0s 108us/sample - loss: 0.3611 - acc: 0.8349\n",
      "Epoch 47/100\n",
      "212/212 [==============================] - 0s 113us/sample - loss: 0.3600 - acc: 0.8349\n",
      "Epoch 48/100\n",
      "212/212 [==============================] - 0s 112us/sample - loss: 0.3585 - acc: 0.8349\n",
      "Epoch 49/100\n",
      "212/212 [==============================] - 0s 120us/sample - loss: 0.3574 - acc: 0.8349\n",
      "Epoch 50/100\n",
      "212/212 [==============================] - 0s 143us/sample - loss: 0.3568 - acc: 0.8349\n",
      "Epoch 51/100\n",
      "212/212 [==============================] - 0s 104us/sample - loss: 0.3558 - acc: 0.8349\n",
      "Epoch 52/100\n",
      "212/212 [==============================] - 0s 122us/sample - loss: 0.3542 - acc: 0.8302\n",
      "Epoch 53/100\n",
      "212/212 [==============================] - 0s 121us/sample - loss: 0.3532 - acc: 0.8302\n",
      "Epoch 54/100\n",
      "212/212 [==============================] - 0s 122us/sample - loss: 0.3522 - acc: 0.8349\n",
      "Epoch 55/100\n",
      "212/212 [==============================] - 0s 109us/sample - loss: 0.3513 - acc: 0.8349\n",
      "Epoch 56/100\n",
      "212/212 [==============================] - 0s 110us/sample - loss: 0.3504 - acc: 0.8349\n",
      "Epoch 57/100\n",
      "212/212 [==============================] - 0s 108us/sample - loss: 0.3498 - acc: 0.8396\n",
      "Epoch 58/100\n",
      "212/212 [==============================] - 0s 122us/sample - loss: 0.3487 - acc: 0.8349\n",
      "Epoch 59/100\n",
      "212/212 [==============================] - 0s 113us/sample - loss: 0.3479 - acc: 0.8349\n",
      "Epoch 60/100\n",
      "212/212 [==============================] - 0s 120us/sample - loss: 0.3472 - acc: 0.8349\n",
      "Epoch 61/100\n",
      "212/212 [==============================] - 0s 104us/sample - loss: 0.3471 - acc: 0.8396\n",
      "Epoch 62/100\n",
      "212/212 [==============================] - 0s 112us/sample - loss: 0.3458 - acc: 0.8396\n",
      "Epoch 63/100\n",
      "212/212 [==============================] - 0s 108us/sample - loss: 0.3452 - acc: 0.8396\n",
      "Epoch 64/100\n",
      "212/212 [==============================] - 0s 112us/sample - loss: 0.3445 - acc: 0.8396\n",
      "Epoch 65/100\n",
      "212/212 [==============================] - 0s 105us/sample - loss: 0.3439 - acc: 0.8396\n",
      "Epoch 66/100\n",
      "212/212 [==============================] - 0s 123us/sample - loss: 0.3431 - acc: 0.8396\n",
      "Epoch 67/100\n",
      "212/212 [==============================] - 0s 112us/sample - loss: 0.3428 - acc: 0.8396\n",
      "Epoch 68/100\n",
      "212/212 [==============================] - 0s 121us/sample - loss: 0.3419 - acc: 0.8443\n",
      "Epoch 69/100\n",
      "212/212 [==============================] - 0s 114us/sample - loss: 0.3418 - acc: 0.8443\n",
      "Epoch 70/100\n",
      "212/212 [==============================] - 0s 110us/sample - loss: 0.3407 - acc: 0.8443\n",
      "Epoch 71/100\n",
      "212/212 [==============================] - 0s 108us/sample - loss: 0.3407 - acc: 0.8491\n",
      "Epoch 72/100\n",
      "212/212 [==============================] - 0s 109us/sample - loss: 0.3398 - acc: 0.8491\n",
      "Epoch 73/100\n",
      "212/212 [==============================] - 0s 120us/sample - loss: 0.3392 - acc: 0.8491\n",
      "Epoch 74/100\n",
      "212/212 [==============================] - 0s 119us/sample - loss: 0.3386 - acc: 0.8491\n",
      "Epoch 75/100\n",
      "212/212 [==============================] - 0s 110us/sample - loss: 0.3390 - acc: 0.8443\n",
      "Epoch 76/100\n",
      "212/212 [==============================] - 0s 105us/sample - loss: 0.3378 - acc: 0.8538\n",
      "Epoch 77/100\n",
      "212/212 [==============================] - 0s 108us/sample - loss: 0.3378 - acc: 0.8491\n",
      "Epoch 78/100\n",
      "212/212 [==============================] - 0s 114us/sample - loss: 0.3370 - acc: 0.8491\n",
      "Epoch 79/100\n",
      "212/212 [==============================] - 0s 120us/sample - loss: 0.3363 - acc: 0.8491\n",
      "Epoch 80/100\n",
      "212/212 [==============================] - 0s 110us/sample - loss: 0.3356 - acc: 0.8491\n",
      "Epoch 81/100\n",
      "212/212 [==============================] - 0s 109us/sample - loss: 0.3357 - acc: 0.8491\n",
      "Epoch 82/100\n",
      "212/212 [==============================] - 0s 114us/sample - loss: 0.3353 - acc: 0.8538\n",
      "Epoch 83/100\n",
      "212/212 [==============================] - 0s 166us/sample - loss: 0.3345 - acc: 0.8491\n",
      "Epoch 84/100\n",
      "212/212 [==============================] - 0s 142us/sample - loss: 0.3342 - acc: 0.8491\n",
      "Epoch 85/100\n",
      "212/212 [==============================] - 0s 127us/sample - loss: 0.3332 - acc: 0.8585\n",
      "Epoch 86/100\n",
      "212/212 [==============================] - 0s 112us/sample - loss: 0.3342 - acc: 0.8585\n",
      "Epoch 87/100\n",
      "212/212 [==============================] - 0s 112us/sample - loss: 0.3339 - acc: 0.8538\n",
      "Epoch 88/100\n",
      "212/212 [==============================] - 0s 116us/sample - loss: 0.3323 - acc: 0.8632\n",
      "Epoch 89/100\n",
      "212/212 [==============================] - 0s 121us/sample - loss: 0.3320 - acc: 0.8726\n",
      "Epoch 90/100\n",
      "212/212 [==============================] - 0s 112us/sample - loss: 0.3313 - acc: 0.8679\n",
      "Epoch 91/100\n",
      "212/212 [==============================] - 0s 132us/sample - loss: 0.3311 - acc: 0.8585\n",
      "Epoch 92/100\n",
      "212/212 [==============================] - 0s 119us/sample - loss: 0.3308 - acc: 0.8585\n",
      "Epoch 93/100\n",
      "212/212 [==============================] - 0s 110us/sample - loss: 0.3301 - acc: 0.8632\n",
      "Epoch 94/100\n",
      "212/212 [==============================] - 0s 122us/sample - loss: 0.3307 - acc: 0.8585\n",
      "Epoch 95/100\n",
      "212/212 [==============================] - 0s 125us/sample - loss: 0.3295 - acc: 0.8679\n",
      "Epoch 96/100\n",
      "212/212 [==============================] - 0s 119us/sample - loss: 0.3315 - acc: 0.8443\n",
      "Epoch 97/100\n",
      "212/212 [==============================] - 0s 148us/sample - loss: 0.3294 - acc: 0.8585\n",
      "Epoch 98/100\n",
      "212/212 [==============================] - 0s 128us/sample - loss: 0.3289 - acc: 0.8679\n",
      "Epoch 99/100\n",
      "212/212 [==============================] - 0s 129us/sample - loss: 0.3279 - acc: 0.8679\n",
      "Epoch 100/100\n",
      "212/212 [==============================] - 0s 109us/sample - loss: 0.3277 - acc: 0.8632\n"
     ]
    },
    {
     "data": {
      "text/plain": [
       "<tensorflow.python.keras.callbacks.History at 0x7fd10a6214a8>"
      ]
     },
     "execution_count": 18,
     "metadata": {
      "tags": []
     },
     "output_type": "execute_result"
    }
   ],
   "source": [
    "model.fit(X_train,Y_train,epochs =100)"
   ]
  },
  {
   "cell_type": "code",
   "execution_count": 0,
   "metadata": {
    "colab": {},
    "colab_type": "code",
    "id": "UWDEDGObVNmY"
   },
   "outputs": [],
   "source": [
    " pred = model.predict(X_test)"
   ]
  },
  {
   "cell_type": "code",
   "execution_count": 20,
   "metadata": {
    "colab": {
     "base_uri": "https://localhost:8080/",
     "height": 51
    },
    "colab_type": "code",
    "executionInfo": {
     "elapsed": 11109,
     "status": "ok",
     "timestamp": 1554571453910,
     "user": {
      "displayName": "Anuj Tiwari",
      "photoUrl": "",
      "userId": "14617033239842827404"
     },
     "user_tz": -330
    },
    "id": "JYZAWVZbY7X2",
    "outputId": "ea0fa7f6-f4cb-44ce-bee2-1a0d19bff4e6"
   },
   "outputs": [
    {
     "name": "stdout",
     "output_type": "stream",
     "text": [
      "91/91 [==============================] - 0s 532us/sample - loss: 0.3799 - acc: 0.8242\n",
      "0.37989114486909176 0.82417583\n"
     ]
    }
   ],
   "source": [
    "score, acc = model.evaluate(X_test, Y_test)\n",
    "print(score,acc)"
   ]
  },
  {
   "cell_type": "code",
   "execution_count": 0,
   "metadata": {
    "colab": {},
    "colab_type": "code",
    "id": "lZvfFoTuY84N"
   },
   "outputs": [],
   "source": []
  }
 ],
 "metadata": {
  "accelerator": "GPU",
  "colab": {
   "collapsed_sections": [],
   "name": "heart.ipynb",
   "provenance": [],
   "version": "0.3.2"
  },
  "kernelspec": {
   "display_name": "Python 3",
   "language": "python",
   "name": "python3"
  },
  "language_info": {
   "codemirror_mode": {
    "name": "ipython",
    "version": 3
   },
   "file_extension": ".py",
   "mimetype": "text/x-python",
   "name": "python",
   "nbconvert_exporter": "python",
   "pygments_lexer": "ipython3",
   "version": "3.7.3"
  }
 },
 "nbformat": 4,
 "nbformat_minor": 1
}
